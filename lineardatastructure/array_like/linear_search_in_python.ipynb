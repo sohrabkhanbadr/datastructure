{
  "cells": [
    {
      "cell_type": "markdown",
      "metadata": {
        "id": "view-in-github",
        "colab_type": "text"
      },
      "source": [
        "<a href=\"https://colab.research.google.com/github/sohrabkhanbadr/datastructure/blob/main/array_like/linear_search_in_python.ipynb\" target=\"_parent\"><img src=\"https://colab.research.google.com/assets/colab-badge.svg\" alt=\"Open In Colab\"/></a>"
      ]
    },
    {
      "cell_type": "markdown",
      "source": [
        "## Linear Search in Python\n",
        "\n",
        "Linear search is a simple algorithm that iterates through a list element by element, comparing each element to the target value.\n",
        "\n",
        "Here's how to implement linear search in Python:\n",
        "\n",
        "**1. Using a for loop:**"
      ],
      "metadata": {
        "id": "wxCKhjSk3Oa5"
      }
    },
    {
      "cell_type": "code",
      "source": [
        "def linear_search(data, target):\n",
        "  \"\"\"\n",
        "  Performs a linear search on the given data list for the target value.\n",
        "\n",
        "  Args:\n",
        "      data: A list of elements.\n",
        "      target: The value to search for.\n",
        "\n",
        "  Returns:\n",
        "      The index of the target value in the data list, or -1 if not found.\n",
        "  \"\"\"\n",
        "  for i, element in enumerate(data):\n",
        "    if element == target:\n",
        "      return i\n",
        "  return -1\n",
        "\n",
        "# Example usage\n",
        "my_list = [3, 7, 2, 1, 4]\n",
        "target = 7\n",
        "index = linear_search(my_list, target)\n",
        "if index != -1:\n",
        "  print(f\"Target {target} found at index {index}\")\n",
        "else:\n",
        "  print(f\"Target {target} not found\")"
      ],
      "outputs": [
        {
          "output_type": "stream",
          "name": "stdout",
          "text": [
            "Target 7 found at index 1\n"
          ]
        }
      ],
      "execution_count": 2,
      "metadata": {
        "colab": {
          "base_uri": "https://localhost:8080/"
        },
        "id": "S1xXpKsc3Oa8",
        "outputId": "53184d36-c207-430a-ae8b-bb842a33d0cc"
      }
    },
    {
      "cell_type": "markdown",
      "source": [
        "**2. Using the `in` operator:**"
      ],
      "metadata": {
        "id": "PrWmt8L03Oa9"
      }
    },
    {
      "cell_type": "code",
      "source": [
        "def linear_search_in(data, target):\n",
        "  \"\"\"\n",
        "  Performs a linear search using the 'in' operator.\n",
        "\n",
        "  Args:\n",
        "      data: A list of elements.\n",
        "      target: The value to search for.\n",
        "\n",
        "  Returns:\n",
        "      True if the target is found in the data list, False otherwise.\n",
        "  \"\"\"\n",
        "  return target in data\n",
        "\n",
        "# Example usage\n",
        "my_list = [3, 7, 2, 1, 4]\n",
        "target = 7\n",
        "found = linear_search_in(my_list, target)\n",
        "if found:\n",
        "  print(f\"Target {target} found\")\n",
        "else:\n",
        "  print(f\"Target {target} not found\")"
      ],
      "outputs": [
        {
          "output_type": "stream",
          "name": "stdout",
          "text": [
            "Target 7 found\n"
          ]
        }
      ],
      "execution_count": 3,
      "metadata": {
        "colab": {
          "base_uri": "https://localhost:8080/"
        },
        "id": "79iPZaob3Oa-",
        "outputId": "e3143b46-17b5-478d-d4a4-222086087fdc"
      }
    },
    {
      "cell_type": "markdown",
      "source": [
        "**Important notes:**\n",
        "\n",
        "* Linear search has a time complexity of O(n), meaning it takes on average `n` comparisons to find the target value, where `n` is the length of the data list. This makes it slow for large datasets.\n",
        "* It's generally not recommended for production use as there are faster searching algorithms like binary search for sorted data.\n",
        "* Choose the implementation that best suits your needs and coding style.\n",
        "\n",
        "I hope this clarifies how to perform linear search in Python!"
      ],
      "metadata": {
        "id": "2z0FMnjt3Oa-"
      }
    }
  ],
  "metadata": {
    "colab": {
      "provenance": [],
      "include_colab_link": true
    },
    "kernelspec": {
      "display_name": "Python 3",
      "name": "python3"
    }
  },
  "nbformat": 4,
  "nbformat_minor": 0
}