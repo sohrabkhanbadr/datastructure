{
  "cells": [
    {
      "cell_type": "markdown",
      "metadata": {
        "id": "view-in-github",
        "colab_type": "text"
      },
      "source": [
        "<a href=\"https://colab.research.google.com/github/sohrabkhanbadr/datastructure/blob/main/sorting/merge%20sort/mergesort.ipynb\" target=\"_parent\"><img src=\"https://colab.research.google.com/assets/colab-badge.svg\" alt=\"Open In Colab\"/></a>"
      ]
    },
    {
      "cell_type": "markdown",
      "source": [
        "## مرتب‌سازی ادغام: غلبه بر هرج و مرج با قدرت \"تقسیم و غلبه کن\"\n",
        "\n",
        "**مقدمه**\n",
        "\n",
        "مرتب‌سازی ادغام، الگوریتمی قدرتمند برای نظم بخشیدن به داده‌ها است. این الگوریتم از استراتژی \"تقسیم و غلبه کن\" برای مرتب‌سازی آرایه‌ها استفاده می‌کند و به دلیل کارایی و ثبات، به یکی از الگوریتم‌های محبوب در علوم کامپیوتر تبدیل شده است.\n",
        "\n",
        "**نحوه عملکرد**\n",
        "\n",
        "1. **تقسیم:** آرایه ورودی به طور بازگشتی به دو زیرآرایه تقسیم می‌شود تا زمانی که به عناصر جداگانه برسیم.\n",
        "\n",
        "2. **غلبه:** هر زیرآرایه به طور جداگانه با استفاده از الگوریتم مرتب‌سازی ادغام مرتب می‌شود.\n",
        "\n",
        "3. **ادغام:** زیرآرایه‌های مرتب‌شده به ترتیب با مقایسه عناصر و قرار دادن آنها در جایگاه صحیح، در یک آرایه نهایی ادغام می‌شوند.\n",
        "\n",
        "**مزایای مرتب‌سازی ادغام:**\n",
        "\n",
        "* **کارایی:** پیچیدگی زمانی مرتب‌سازی ادغام در بدترین حالت O(n log n) است، که در مقایسه با الگوریتم‌های مرتب‌سازی حبابی یا انتخابی (با پیچیدگی O(n^2)) بسیار کارآمدتر است.\n",
        "* **ثبات:** ترتیب عناصر با مقادیر برابر در آرایه ورودی پس از مرتب‌سازی حفظ می‌شود.\n",
        "* **قابلیت پیاده‌سازی آسان:** الگوریتم مرتب‌سازی ادغام به سادگی با استفاده از بازگشت پیاده‌سازی می‌شود.\n",
        "\n",
        "**معایب مرتب‌سازی ادغام:**\n",
        "\n",
        "* **مصرف حافظه:** به دلیل استفاده از آرایه‌های موقت برای ادغام، این الگوریتم به حافظه بیشتری نسبت به برخی الگوریتم‌های دیگر نیاز دارد.\n",
        "* **عملکرد ضعیف در آرایه‌های کوچک:** برای آرایه‌های کوچک، مرتب‌سازی ادغام ممکن است از الگوریتم‌های ساده‌تر مانند مرتب‌سازی حبابی کندتر عمل کند.\n",
        "\n",
        "**نمونه کد:**"
      ],
      "metadata": {
        "id": "CcphbOlSD7uQ"
      }
    },
    {
      "cell_type": "code",
      "source": [
        "def merge_sort(array):\n",
        "    if len(array) <= 1:\n",
        "        return array\n",
        "\n",
        "    mid = len(array) // 2\n",
        "    left = merge_sort(array[:mid])\n",
        "    right = merge_sort(array[mid:])\n",
        "\n",
        "    return merge(left, right)\n",
        "\n",
        "\n",
        "def merge(left, right):\n",
        "    result = []\n",
        "    i = 0\n",
        "    j = 0\n",
        "    while i < len(left) and j < len(right):\n",
        "        if left[i] < right[j]:\n",
        "            result.append(left[i])\n",
        "            i += 1\n",
        "        else:\n",
        "            result.append(right[j])\n",
        "            j += 1\n",
        "\n",
        "    result += left[i:]\n",
        "    result += right[j:]\n",
        "    return result"
      ],
      "outputs": [],
      "execution_count": 1,
      "metadata": {
        "id": "omcQu6jdD7uV"
      }
    },
    {
      "cell_type": "code",
      "source": [
        "merge_sort([9,3,7,2,1,12])"
      ],
      "metadata": {
        "colab": {
          "base_uri": "https://localhost:8080/"
        },
        "id": "7772IpxqEHAx",
        "outputId": "daf32346-04c1-4c05-dca3-bc082fd78fd3"
      },
      "execution_count": 2,
      "outputs": [
        {
          "output_type": "execute_result",
          "data": {
            "text/plain": [
              "[1, 2, 3, 7, 9, 12]"
            ]
          },
          "metadata": {},
          "execution_count": 2
        }
      ]
    },
    {
      "cell_type": "markdown",
      "source": [
        "**پیچیدگی زمانی:**\n",
        "\n",
        "با تجزیه و تحلیل مراحل الگوریتم، می‌توان پیچیدگی زمانی مرتب‌سازی ادغام را به صورت O(n log n) نشان داد.\n",
        "\n",
        "**منابع:**\n",
        "\n",
        "* [https://youtu.be/4VqmGXwpLqc?si=fSRPXSUwx_fWS2HO](https://youtu.be/4VqmGXwpLqc?si=fSRPXSUwx_fWS2HO)\n",
        "* [https://en.wikipedia.org/wiki/Merge_sort](https://en.wikipedia.org/wiki/Merge_sort)\n",
        "\n",
        "**جمع‌بندی:**\n",
        "\n",
        "مرتب‌سازی ادغام یک الگوریتم قدرتمند و کارآمد برای مرتب‌سازی داده‌ها است. این الگوریتم از استراتژی \"تقسیم و غلبه کن\" برای مرتب‌سازی آرایه‌ها استفاده می‌کند و به دلیل کارایی و ثبات، به یکی از الگوریتم‌های محبوب در علوم کامپیوتر تبدیل شده است.\n",
        "\n",
        "**نکات:**\n",
        "\n",
        "* برای آشنایی بیشتر با نحوه عملکرد الگوریتم، ویدئوی ارائه شده در ابتدای این پست را مشاهده کنید.\n",
        "* برای درک عمیق‌تر پیچیدگی زمانی، به تجزیه و تحلیل ارائه شده در منبع دوم مراجعه کنید.\n",
        "* برای پیاده‌سازی الگوریتم به زبان‌های مختلف برنامه‌نویسی، می‌توانید از منابع آنلاین و کتاب‌های مرجع استفاده کنید."
      ],
      "metadata": {
        "id": "bDe-Cm7KD7uW"
      }
    },
    {
      "cell_type": "markdown",
      "source": [
        "<div class=\"md-recitation\">\n",
        "  Sources\n",
        "  <ol>\n",
        "  <li><a href=\"https://github.com/Blurryface911/DSA\">https://github.com/Blurryface911/DSA</a></li>\n",
        "  <li><a href=\"https://github.com/AntonyXXu/Learning\">https://github.com/AntonyXXu/Learning</a></li>\n",
        "  <li><a href=\"https://compucademy.net/algorithmic-thinking-with-python-part-3-divide-and-conquer-strategy/\">https://compucademy.net/algorithmic-thinking-with-python-part-3-divide-and-conquer-strategy/</a></li>\n",
        "  </ol>\n",
        "</div>"
      ],
      "metadata": {
        "id": "zIzSM66zD7uW"
      }
    }
  ],
  "metadata": {
    "colab": {
      "provenance": [],
      "include_colab_link": true
    },
    "kernelspec": {
      "display_name": "Python 3",
      "name": "python3"
    }
  },
  "nbformat": 4,
  "nbformat_minor": 0
}