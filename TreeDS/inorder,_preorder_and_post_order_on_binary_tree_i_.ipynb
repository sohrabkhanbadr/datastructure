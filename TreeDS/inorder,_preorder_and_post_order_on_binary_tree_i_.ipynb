{
  "cells": [
    {
      "cell_type": "markdown",
      "metadata": {
        "id": "view-in-github",
        "colab_type": "text"
      },
      "source": [
        "<a href=\"https://colab.research.google.com/github/sohrabkhanbadr/datastructure/blob/main/TreeDS/inorder%2C_preorder_and_post_order_on_binary_tree_i_.ipynb\" target=\"_parent\"><img src=\"https://colab.research.google.com/assets/colab-badge.svg\" alt=\"Open In Colab\"/></a>"
      ]
    },
    {
      "cell_type": "markdown",
      "source": [
        "Here's a Jupyter Notebook code cell demonstrating inorder, preorder, and postorder traversals on a binary tree:"
      ],
      "metadata": {
        "id": "gqIQdmWblQ7f"
      }
    },
    {
      "cell_type": "code",
      "source": [
        "class Node:\n",
        "  def __init__(self, data):\n",
        "    self.data = data\n",
        "    self.left = None\n",
        "    self.right = None\n",
        "\n",
        "def in_order(root):\n",
        "  if root:\n",
        "    in_order(root.left)\n",
        "    print(root.data, end=\" \")\n",
        "    in_order(root.right)\n",
        "\n",
        "def pre_order(root):\n",
        "  if root:\n",
        "    print(root.data, end=\" \")\n",
        "    pre_order(root.left)\n",
        "    pre_order(root.right)\n",
        "\n",
        "def post_order(root):\n",
        "  if root:\n",
        "    post_order(root.left)\n",
        "    post_order(root.right)\n",
        "    print(root.data, end=\" \")\n",
        "\n",
        "# Create a sample binary tree\n",
        "root = Node(1)\n",
        "root.left = Node(2)\n",
        "root.right = Node(3)\n",
        "root.left.left = Node(4)\n",
        "root.left.right = Node(5)\n",
        "\n",
        "# Print the traversals\n",
        "print(\"Inorder traversal: \", end=\"\")\n",
        "in_order(root)\n",
        "print(\"\\nPreorder traversal: \", end=\"\")\n",
        "pre_order(root)\n",
        "print(\"\\nPostorder traversal: \", end=\"\")\n",
        "post_order(root)"
      ],
      "outputs": [
        {
          "output_type": "stream",
          "name": "stdout",
          "text": [
            "Inorder traversal: 4 2 5 1 3 \n",
            "Preorder traversal: 1 2 4 5 3 \n",
            "Postorder traversal: 4 5 2 3 1 "
          ]
        }
      ],
      "execution_count": 1,
      "metadata": {
        "colab": {
          "base_uri": "https://localhost:8080/"
        },
        "id": "i2uIEiKClQ7j",
        "outputId": "c2519cc6-e317-4f72-e766-0bbea2a6f23f"
      }
    },
    {
      "cell_type": "markdown",
      "source": [
        "**Explanation:**\n",
        "\n",
        "1. **Node Class:** This class defines the structure of a node in the binary tree. It has three attributes:\n",
        "   - `data`: Stores the data value of the node.\n",
        "   - `left`: Pointer to the left child node.\n",
        "   - `right`: Pointer to the right child node.\n",
        "\n",
        "2. **Traversal Functions:**\n",
        "   - `in_order`: This function performs an in-order traversal. It follows the left subtree, root node, and right subtree order.\n",
        "   - `pre_order`: This function performs a pre-order traversal. It follows the root node, left subtree, and right subtree order.\n",
        "   - `post_order`: This function performs a post-order traversal. It follows the left subtree, right subtree, and root node order.\n",
        "\n",
        "3. **Sample Tree Creation:** This code snippet creates a sample binary tree with some nodes and their connections.\n",
        "\n",
        "4. **Printing Traversals:**\n",
        "   - Each traversal function calls itself recursively on the left and right subtrees until it reaches a leaf node (empty node).\n",
        "   - The `in_order` function prints the data in the left subtree, then the current node's data, and finally the data in the right subtree.\n",
        "   - The `pre_order` function first prints the current node's data, then calls itself on the left and right subtrees.\n",
        "   - The `post_order` function calls itself on the left and right subtrees, and finally prints the current node's data.\n",
        "\n",
        "**Running the code:**\n",
        "\n",
        "1. Create a new Jupyter Notebook.\n",
        "2. Copy and paste the code cell into the notebook.\n",
        "3. Run the cell by pressing `Shift+Enter`.\n",
        "\n",
        "This will print the inorder, preorder, and postorder traversals of the sample binary tree.\n",
        "\n",
        "**Note:** This code demonstrates a recursive approach to tree traversals. You can also implement these traversals iteratively using a stack."
      ],
      "metadata": {
        "id": "zML85kQPlQ7n"
      }
    },
    {
      "cell_type": "markdown",
      "source": [
        "<div class=\"md-recitation\">\n",
        "  Sources\n",
        "  <ol>\n",
        "  <li><a href=\"https://github.com/naderelhadedy/Cracking-The-Coding-Interview-Problems\">https://github.com/naderelhadedy/Cracking-The-Coding-Interview-Problems</a></li>\n",
        "  <li><a href=\"https://github.com/parkerduckworth/Data-Structures\">https://github.com/parkerduckworth/Data-Structures</a></li>\n",
        "  </ol>\n",
        "</div>"
      ],
      "metadata": {
        "id": "mTa1tJLMlQ7n"
      }
    }
  ],
  "metadata": {
    "colab": {
      "provenance": [],
      "include_colab_link": true
    },
    "kernelspec": {
      "display_name": "Python 3",
      "name": "python3"
    }
  },
  "nbformat": 4,
  "nbformat_minor": 0
}