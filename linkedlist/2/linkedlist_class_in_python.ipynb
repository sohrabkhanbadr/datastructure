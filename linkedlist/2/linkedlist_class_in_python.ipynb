{
  "cells": [
    {
      "cell_type": "markdown",
      "metadata": {
        "id": "view-in-github",
        "colab_type": "text"
      },
      "source": [
        "<a href=\"https://colab.research.google.com/github/sohrabkhanbadr/datastructure/blob/main/linkedlist/2/linkedlist_class_in_python.ipynb\" target=\"_parent\"><img src=\"https://colab.research.google.com/assets/colab-badge.svg\" alt=\"Open In Colab\"/></a>"
      ]
    },
    {
      "cell_type": "markdown",
      "source": [
        "Here's a Python implementation of a singly linked list class:"
      ],
      "metadata": {
        "id": "70L9HBDuYjac"
      }
    },
    {
      "cell_type": "code",
      "source": [
        "class Node:\n",
        "  \"\"\"\n",
        "  A node class to represent a single node in the linked list.\n",
        "  \"\"\"\n",
        "  def __init__(self, data):\n",
        "    self.data = data\n",
        "    self.next = None\n",
        "\n",
        "class LinkedList:\n",
        "  \"\"\"\n",
        "  A LinkedList class to create and manage a linked list.\n",
        "  \"\"\"\n",
        "  def __init__(self):\n",
        "    self.head = None\n",
        "\n",
        "  def is_empty(self):\n",
        "    \"\"\"\n",
        "    Checks if the linked list is empty.\n",
        "    \"\"\"\n",
        "    return self.head is None\n",
        "\n",
        "  def insert_at_beginning(self, data):\n",
        "    \"\"\"\n",
        "    Inserts a new node at the beginning of the linked list.\n",
        "    \"\"\"\n",
        "    new_node = Node(data)\n",
        "    new_node.next = self.head\n",
        "    self.head = new_node\n",
        "\n",
        "  def insert_at_end(self, data):\n",
        "    \"\"\"\n",
        "    Inserts a new node at the end of the linked list.\n",
        "    \"\"\"\n",
        "    new_node = Node(data)\n",
        "    if self.is_empty():\n",
        "      self.head = new_node\n",
        "      return\n",
        "    current = self.head\n",
        "    while current.next:\n",
        "      current = current.next\n",
        "    current.next = new_node\n",
        "\n",
        "  def traverse(self):\n",
        "    \"\"\"\n",
        "    Traverses the linked list and prints the data of each node.\n",
        "    \"\"\"\n",
        "    current = self.head\n",
        "    while current:\n",
        "      print(current.data, end=\" -> \")\n",
        "      current = current.next\n",
        "    print(\"None\")\n",
        "\n",
        "# Example usage\n",
        "linked_list = LinkedList()\n",
        "linked_list.insert_at_beginning(5)\n",
        "linked_list.insert_at_end(10)\n",
        "linked_list.insert_at_beginning(2)\n",
        "linked_list.traverse()"
      ],
      "outputs": [],
      "execution_count": null,
      "metadata": {
        "id": "YdPW_9tPYjaf"
      }
    },
    {
      "cell_type": "markdown",
      "source": [
        "This code defines two classes:\n",
        "\n",
        "* `Node`: This class represents a single node in the linked list. It has two attributes:\n",
        "    * `data`: Stores the data value of the node.\n",
        "    * `next`: A reference to the next node in the list, or `None` if it's the last node.\n",
        "* `LinkedList`: This class manages the linked list. It has methods for:\n",
        "    * Checking if the list is empty.\n",
        "    * Inserting a new node at the beginning.\n",
        "    * Inserting a new node at the end.\n",
        "    * Traversing the list and printing the data of each node.\n",
        "\n",
        "The example usage demonstrates how to create a linked list, insert elements, and traverse the list.\n",
        "\n",
        "This is a basic implementation. You can extend it further by adding methods for:\n",
        "\n",
        "* Inserting at a specific index.\n",
        "* Deleting a node by data value or index.\n",
        "* Searching for a node by data value."
      ],
      "metadata": {
        "id": "qcqfQiQbYjah"
      }
    },
    {
      "cell_type": "markdown",
      "source": [
        "<div class=\"md-recitation\">\n",
        "  Sources\n",
        "  <ol>\n",
        "  <li><a href=\"https://github.com/pushp1997/educative-ds-and-algorithms-in-python\">https://github.com/pushp1997/educative-ds-and-algorithms-in-python</a> subject to MIT</li>\n",
        "  </ol>\n",
        "</div>"
      ],
      "metadata": {
        "id": "TeuUGsG8Yjah"
      }
    }
  ],
  "metadata": {
    "colab": {
      "provenance": [],
      "include_colab_link": true
    },
    "kernelspec": {
      "display_name": "Python 3",
      "name": "python3"
    }
  },
  "nbformat": 4,
  "nbformat_minor": 0
}