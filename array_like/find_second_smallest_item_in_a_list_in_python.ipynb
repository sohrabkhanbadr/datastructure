{
  "cells": [
    {
      "cell_type": "markdown",
      "metadata": {
        "id": "view-in-github",
        "colab_type": "text"
      },
      "source": [
        "<a href=\"https://colab.research.google.com/github/sohrabkhanbadr/datastructure/blob/main/array_like/find_second_smallest_item_in_a_list_in_python.ipynb\" target=\"_parent\"><img src=\"https://colab.research.google.com/assets/colab-badge.svg\" alt=\"Open In Colab\"/></a>"
      ]
    },
    {
      "cell_type": "markdown",
      "source": [
        "# Using Sorted List"
      ],
      "metadata": {
        "id": "GUjShtiQ8DFo"
      }
    },
    {
      "cell_type": "markdown",
      "source": [
        "One Way is that first Sort list and then return second element of the list. Time Complexity of this function is O(nLog(n))"
      ],
      "metadata": {
        "id": "-FTCtwzf7wdx"
      }
    },
    {
      "cell_type": "code",
      "source": [
        "def find_second_smallest (data):\n",
        "  if len(data)< 2:\n",
        "    return None\n",
        "\n",
        "  sortedData = sorted(data)\n",
        "  return sortedData[1]\n",
        "\n",
        "# Example usage\n",
        "my_list = [5, 3, 8, 1, 2]\n",
        "second_smallest = find_second_smallest(my_list)\n",
        "\n",
        "if second_smallest is not None:\n",
        "  print(f\"Second smallest item: {second_smallest}\")\n",
        "else:\n",
        "  print(\"List has less than 2 elements\")"
      ],
      "metadata": {
        "colab": {
          "base_uri": "https://localhost:8080/"
        },
        "id": "8IgtgEzQ8TcJ",
        "outputId": "0da7ebfd-c561-4ba9-ce4a-47cc2fa662c1"
      },
      "execution_count": 6,
      "outputs": [
        {
          "output_type": "stream",
          "name": "stdout",
          "text": [
            "Second smallest item: 2\n"
          ]
        }
      ]
    },
    {
      "cell_type": "markdown",
      "source": [
        "Sure, here is the code for finding the second smallest item in a list in Python:"
      ],
      "metadata": {
        "id": "EM2YJlpo7umG"
      }
    },
    {
      "cell_type": "code",
      "source": [
        "def find_second_smallest(data):\n",
        "  \"\"\"\n",
        "  Finds the second smallest item in a list in Python.\n",
        "\n",
        "  Args:\n",
        "      data: A list of numbers.\n",
        "\n",
        "  Returns:\n",
        "      The second smallest item in the list, or None if the list has less than 2 elements.\n",
        "  \"\"\"\n",
        "\n",
        "  if len(data) < 2:\n",
        "    return None\n",
        "\n",
        "  # Initialize first and second smallest values\n",
        "  first_smallest = second_smallest = float('inf')\n",
        "\n",
        "  # Iterate through the list\n",
        "  for num in data:\n",
        "    # Update first_smallest if necessary\n",
        "    if num < first_smallest:\n",
        "      second_smallest = first_smallest\n",
        "      first_smallest = num\n",
        "    # Update second_smallest if necessary, but avoid duplicates\n",
        "    elif num > first_smallest and num < second_smallest:\n",
        "      second_smallest = num\n",
        "\n",
        "  return second_smallest\n",
        "\n",
        "# Example usage\n",
        "my_list = [5, 3, 8, 1, 2]\n",
        "second_smallest = find_second_smallest(my_list)\n",
        "\n",
        "if second_smallest is not None:\n",
        "  print(f\"Second smallest item: {second_smallest}\")\n",
        "else:\n",
        "  print(\"List has less than 2 elements\")"
      ],
      "outputs": [
        {
          "output_type": "stream",
          "name": "stdout",
          "text": [
            "Second smallest item: 2\n"
          ]
        }
      ],
      "execution_count": 5,
      "metadata": {
        "colab": {
          "base_uri": "https://localhost:8080/"
        },
        "id": "zOK66ZQT7umJ",
        "outputId": "bba76a6e-e91e-4dd7-e5a7-6bad110b86a9"
      }
    },
    {
      "cell_type": "markdown",
      "source": [
        "This code outputs the following:\n",
        "\n",
        "```\n",
        "Second smallest item: 2\n",
        "```\n",
        "\n",
        "The second smallest item in the list `[5, 3, 8, 1, 2]` is 2."
      ],
      "metadata": {
        "id": "ICyC2kBF7umL"
      }
    }
  ],
  "metadata": {
    "colab": {
      "provenance": [],
      "include_colab_link": true
    },
    "kernelspec": {
      "display_name": "Python 3",
      "name": "python3"
    }
  },
  "nbformat": 4,
  "nbformat_minor": 0
}