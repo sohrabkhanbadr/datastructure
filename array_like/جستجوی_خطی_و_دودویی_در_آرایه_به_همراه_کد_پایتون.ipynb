{
  "cells": [
    {
      "cell_type": "markdown",
      "metadata": {
        "id": "view-in-github",
        "colab_type": "text"
      },
      "source": [
        "<a href=\"https://colab.research.google.com/github/sohrabkhanbadr/datastructure/blob/main/array_like/%D8%AC%D8%B3%D8%AA%D8%AC%D9%88%DB%8C_%D8%AE%D8%B7%DB%8C_%D9%88_%D8%AF%D9%88%D8%AF%D9%88%DB%8C%DB%8C_%D8%AF%D8%B1_%D8%A2%D8%B1%D8%A7%DB%8C%D9%87_%D8%A8%D9%87_%D9%87%D9%85%D8%B1%D8%A7%D9%87_%DA%A9%D8%AF_%D9%BE%D8%A7%DB%8C%D8%AA%D9%88%D9%86.ipynb\" target=\"_parent\"><img src=\"https://colab.research.google.com/assets/colab-badge.svg\" alt=\"Open In Colab\"/></a>"
      ]
    },
    {
      "cell_type": "markdown",
      "source": [
        "## جستجوی خطی (Linear Search)\n",
        "\n",
        "جستجوی خطی ساده ترین الگوریتم جستجو برای یافتن یک عنصر در آرایه است. این الگوریتم به ترتیب هر عنصر آرایه را با عنصر مورد نظر مقایسه می کند تا زمانی که عنصر مورد نظر را پیدا کند یا به انتهای آرایه برسد.\n",
        "\n",
        "**مزایای جستجوی خطی:**\n",
        "\n",
        "* پیاده سازی ساده\n",
        "* مناسب برای آرایه های کوچک\n",
        "\n",
        "**معایب جستجوی خطی:**\n",
        "\n",
        "* کندی در آرایه های بزرگ\n",
        "* پیچیدگی زمانی O(n)\n",
        "\n",
        "**کد پایتون برای جستجوی خطی:**"
      ],
      "metadata": {
        "id": "IF19UDnyRZce"
      }
    },
    {
      "cell_type": "code",
      "source": [
        "def linear_search(array, element):\n",
        "  for i in range(len(array)):\n",
        "    if array[i] == element:\n",
        "      return i\n",
        "  return -1\n",
        "\n",
        "# مثال\n",
        "array = [1, 3, 5, 7, 9]\n",
        "element = 5\n",
        "\n",
        "index = linear_search(array, element)\n",
        "\n",
        "if index == -1:\n",
        "  print(\"عنصر مورد نظر یافت نشد\")\n",
        "else:\n",
        "  print(\"عنصر مورد نظر در شاخص {} قرار دارد\".format(index))"
      ],
      "outputs": [],
      "execution_count": null,
      "metadata": {
        "id": "2jn05yBNRZch"
      }
    },
    {
      "cell_type": "markdown",
      "source": [
        "## جستجوی دودویی (Binary Search)\n",
        "\n",
        "جستجوی دودویی الگوریتمی کارآمدتر برای جستجوی یک عنصر در آرایه مرتب شده است. این الگوریتم با تقسیم آرایه به دو قسمت مساوی و مقایسه عنصر مورد نظر با عنصر میانی شروع می شود. سپس، جستجو در نیمه ای از آرایه که عنصر مورد نظر می تواند در آن وجود داشته باشد، ادامه می یابد. این فرآیند تا زمانی که عنصر مورد نظر پیدا شود یا مشخص شود که عنصر در آرایه وجود ندارد، ادامه می یابد.\n",
        "\n",
        "**مزایای جستجوی دودویی:**\n",
        "\n",
        "* بسیار سریعتر از جستجوی خطی در آرایه های بزرگ\n",
        "* پیچیدگی زمانی O(log n)\n",
        "\n",
        "**معایب جستجوی دودویی:**\n",
        "\n",
        "* نیاز به آرایه مرتب شده\n",
        "* پیاده سازی پیچیده تر\n",
        "\n",
        "**کد پایتون برای جستجوی دودویی:**"
      ],
      "metadata": {
        "id": "Wl9qgTdsRZci"
      }
    },
    {
      "cell_type": "code",
      "source": [
        "def binary_search(array, element):\n",
        "  low = 0\n",
        "  high = len(array) - 1\n",
        "\n",
        "  while low <= high:\n",
        "    mid = (low + high) // 2\n",
        "    if array[mid] == element:\n",
        "      return mid\n",
        "    elif array[mid] < element:\n",
        "      low = mid + 1\n",
        "    else:\n",
        "      high = mid - 1\n",
        "\n",
        "  return -1\n",
        "\n",
        "# مثال\n",
        "array = [1, 3, 5, 7, 9]\n",
        "element = 5\n",
        "\n",
        "index = binary_search(array, element)\n",
        "\n",
        "if index == -1:\n",
        "  print(\"عنصر مورد نظر یافت نشد\")\n",
        "else:\n",
        "  print(\"عنصر مورد نظر در شاخص {} قرار دارد\".format(index))"
      ],
      "outputs": [],
      "execution_count": null,
      "metadata": {
        "id": "sCWRJavyRZcj"
      }
    },
    {
      "cell_type": "markdown",
      "source": [
        "**مقایسه جستجوی خطی و دودویی:**\n",
        "\n",
        "| معیار | جستجوی خطی | جستجوی دودویی |\n",
        "|---|---|---|\n",
        "| سرعت | کند | سریع |\n",
        "| پیچیدگی زمانی | O(n) | O(log n) |\n",
        "| نیاز به مرتب سازی | خیر | بله |\n",
        "| پیاده سازی | ساده | پیچیده تر |\n",
        "\n",
        "**انتخاب الگوریتم مناسب:**\n",
        "\n",
        "انتخاب الگوریتم جستجوی مناسب به عوامل مختلفی مانند اندازه آرایه، مرتب بودن آرایه و اهمیت سرعت بستگی دارد.\n",
        "\n",
        "* اگر آرایه کوچک باشد، جستجوی خطی به اندازه کافی سریع است.\n",
        "* اگر آرایه بزرگ باشد و مرتب نباشد، جستجوی خطی تنها گزینه است.\n",
        "* اگر آرایه بزرگ و مرتب باشد، جستجوی دودویی بهترین انتخاب است.\n",
        "\n",
        "**منابع:**\n",
        "\n",
        "* جستجوی خطی در پایتون: [https://www.programiz.com/dsa/linear-search](https://www.programiz.com/dsa/linear-search)\n",
        "* جستجوی دودویی در پایتون: [https://www.programiz.com/dsa/binary-search](https://www.programiz.com/dsa/binary-search)"
      ],
      "metadata": {
        "id": "kd_Q1zDxRZcj"
      }
    }
  ],
  "metadata": {
    "colab": {
      "provenance": [],
      "include_colab_link": true
    },
    "kernelspec": {
      "display_name": "Python 3",
      "name": "python3"
    }
  },
  "nbformat": 4,
  "nbformat_minor": 0
}