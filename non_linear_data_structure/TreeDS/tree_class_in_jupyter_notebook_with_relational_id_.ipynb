{
  "cells": [
    {
      "cell_type": "markdown",
      "metadata": {
        "id": "view-in-github",
        "colab_type": "text"
      },
      "source": [
        "<a href=\"https://colab.research.google.com/github/sohrabkhanbadr/datastructure/blob/main/TreeDS/tree_class_in_jupyter_notebook_with_relational_id_.ipynb\" target=\"_parent\"><img src=\"https://colab.research.google.com/assets/colab-badge.svg\" alt=\"Open In Colab\"/></a>"
      ]
    },
    {
      "cell_type": "markdown",
      "source": [
        "Here's a Jupyter Notebook code cell implementing a `Tree` class with methods for relational identification:"
      ],
      "metadata": {
        "id": "tRT3MYuXnjCg"
      }
    },
    {
      "cell_type": "code",
      "source": [
        "class Node:\n",
        "  def __init__(self, data):\n",
        "    self.data = data\n",
        "    self.left = None\n",
        "    self.right = None\n",
        "    self.parent = None  # Added parent attribute\n",
        "\n",
        "class Tree:\n",
        "  def __init__(self):\n",
        "    self.root = None\n",
        "\n",
        "  def insert(self, data):\n",
        "    new_node = Node(data)\n",
        "    if self.root is None:\n",
        "      self.root = new_node\n",
        "    else:\n",
        "      self._insert(data, self.root)\n",
        "\n",
        "  def _insert(self, data, node):\n",
        "    if data < node.data:\n",
        "      if node.left is None:\n",
        "        node.left = Node(data)\n",
        "        node.left.parent = node  # Set parent for left child\n",
        "      else:\n",
        "        self._insert(data, node.left)\n",
        "    else:\n",
        "      if node.right is None:\n",
        "        node.right = Node(data)\n",
        "        node.right.parent = node  # Set parent for right child\n",
        "      else:\n",
        "        self._insert(data, node.right)\n",
        "\n",
        "  def get_parent(self, node):\n",
        "    if node is self.root:\n",
        "      return None  # Root node has no parent\n",
        "    return node.parent\n",
        "\n",
        "  def get_siblings(self, node):\n",
        "    if node is self.root:\n",
        "      return None  # Root node has no siblings\n",
        "\n",
        "    parent = node.parent\n",
        "    if parent is None:\n",
        "      return None  # Shouldn't happen, but handle for safety\n",
        "\n",
        "    if parent.left == node:\n",
        "      return parent.right  # Left child's sibling is right child\n",
        "    else:\n",
        "      return parent.left  # Right child's sibling is left child\n",
        "\n",
        "# Create a sample binary tree\n",
        "tree = Tree()\n",
        "tree.insert(5)\n",
        "tree.insert(3)\n",
        "tree.insert(7)\n",
        "tree.insert(1)\n",
        "\n",
        "# Get parent and siblings of a node (example)\n",
        "node = tree.root.left  # Access the left child of the root\n",
        "parent = tree.get_parent(node)\n",
        "siblings = tree.get_siblings(node)\n",
        "\n",
        "print(\"Node data:\", node.data)\n",
        "if parent:\n",
        "  print(\"Parent:\", parent.data)\n",
        "else:\n",
        "  print(\"Parent: None (Root node)\")\n",
        "if siblings:\n",
        "   print(\"Sibling:\", siblings.data)\n",
        "else:\n",
        "  print(\"Sibling: None\")"
      ],
      "outputs": [
        {
          "output_type": "stream",
          "name": "stdout",
          "text": [
            "Node data: 3\n",
            "Parent: 5\n",
            "Sibling: 7\n"
          ]
        }
      ],
      "execution_count": 1,
      "metadata": {
        "colab": {
          "base_uri": "https://localhost:8080/"
        },
        "id": "wV43jQ55njCk",
        "outputId": "dca6225c-1abb-4b69-b034-6715e1fc4377"
      }
    },
    {
      "cell_type": "markdown",
      "source": [
        "**Explanation:**\n",
        "\n",
        "1. **Node Class:** The `Node` class now includes a `parent` attribute to store a reference to the parent node.\n",
        "\n",
        "2. **Tree Class:**\n",
        "   - `insert`: This method inserts a new node into the tree using a binary search tree approach. During insertion, the `parent` attribute of the newly inserted child node is set to the current node.\n",
        "   - `get_parent`: This method takes a node as input and checks if it's the root node. If not, it returns the value of the `parent` attribute.\n",
        "   - `get_siblings`: This method takes a node as input. It checks if the node is the root (no siblings) or if the parent is missing (shouldn't happen). Otherwise, it retrieves the sibling based on whether the current node is the left or right child of its parent.\n",
        "\n",
        "3. **Sample Tree Creation:** This code creates a sample binary tree with some nodes.\n",
        "\n",
        "4. **Retrieving Parent and Siblings:**\n",
        "   - We access the left child of the root node as an example.\n",
        "   - The `get_parent` method is called to retrieve the parent node.\n",
        "   - The `get_siblings` method is called to retrieve any siblings (which would be the right child in this case).\n",
        "\n",
        "**Running the code:**\n",
        "\n",
        "1. Create a new Jupyter Notebook.\n",
        "2. Copy and paste the code cell into the notebook.\n",
        "3. Run the cell by pressing `Shift+Enter`.\n",
        "\n",
        "This will print information about the chosen node, including its data, parent (if it exists), and sibling (if it exists). You can modify the code to call these methods on different nodes in the tree."
      ],
      "metadata": {
        "id": "JqkEPgn7njCo"
      }
    },
    {
      "cell_type": "markdown",
      "source": [
        "<div class=\"md-recitation\">\n",
        "  Sources\n",
        "  <ol>\n",
        "  <li><a href=\"https://github.com/WhatNextAlgo/Data-Structure-and-Algorithms\">https://github.com/WhatNextAlgo/Data-Structure-and-Algorithms</a></li>\n",
        "  <li><a href=\"https://github.com/kjderosa/interview-prep-coding\">https://github.com/kjderosa/interview-prep-coding</a></li>\n",
        "  </ol>\n",
        "</div>"
      ],
      "metadata": {
        "id": "tHQfGDeonjCp"
      }
    }
  ],
  "metadata": {
    "colab": {
      "provenance": [],
      "include_colab_link": true
    },
    "kernelspec": {
      "display_name": "Python 3",
      "name": "python3"
    }
  },
  "nbformat": 4,
  "nbformat_minor": 0
}